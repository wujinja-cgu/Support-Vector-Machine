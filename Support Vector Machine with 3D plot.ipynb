{
 "cells": [
  {
   "cell_type": "markdown",
   "id": "d6a4f2fd",
   "metadata": {},
   "source": [
    "### install packages and library"
   ]
  },
  {
   "cell_type": "code",
   "execution_count": 1,
   "id": "182a643a",
   "metadata": {},
   "outputs": [
    {
     "name": "stderr",
     "output_type": "stream",
     "text": [
      "Loading required package: ggplot2\n",
      "\n",
      "Loading required package: lattice\n",
      "\n",
      "\n",
      "Attaching package: 'kernlab'\n",
      "\n",
      "\n",
      "The following object is masked from 'package:ggplot2':\n",
      "\n",
      "    alpha\n",
      "\n",
      "\n",
      "randomForest 4.7-1.1\n",
      "\n",
      "Type rfNews() to see new features/changes/bug fixes.\n",
      "\n",
      "\n",
      "Attaching package: 'randomForest'\n",
      "\n",
      "\n",
      "The following object is masked from 'package:ggplot2':\n",
      "\n",
      "    margin\n",
      "\n",
      "\n",
      "Loaded gbm 2.1.8.1\n",
      "\n",
      "Type 'citation(\"pROC\")' for a citation.\n",
      "\n",
      "\n",
      "Attaching package: 'pROC'\n",
      "\n",
      "\n",
      "The following objects are masked from 'package:stats':\n",
      "\n",
      "    cov, smooth, var\n",
      "\n",
      "\n",
      "Loaded ROSE 0.0-4\n",
      "\n",
      "\n",
      "Loading required package: foreach\n",
      "\n",
      "Loading required package: iterators\n",
      "\n",
      "Loading required package: parallel\n",
      "\n"
     ]
    },
    {
     "data": {
      "text/html": [
       "6"
      ],
      "text/latex": [
       "6"
      ],
      "text/markdown": [
       "6"
      ],
      "text/plain": [
       "[1] 6"
      ]
     },
     "metadata": {},
     "output_type": "display_data"
    }
   ],
   "source": [
    "library(caret)\n",
    "library(kernlab)\n",
    "library(foreign)\n",
    "library(mlbench)\n",
    "library(rpart)\n",
    "library(rpart.plot)\n",
    "library(ipred)\n",
    "library(randomForest)\n",
    "library(gbm)\n",
    "library(nnet)\n",
    "library(pROC)\n",
    "library(ggplot2)\n",
    "library(ROSE)\n",
    "library(doParallel)\n",
    "registerDoParallel(6)\n",
    "getDoParWorkers()"
   ]
  },
  {
   "cell_type": "markdown",
   "id": "c933ed5d",
   "metadata": {},
   "source": [
    "### Read data"
   ]
  },
  {
   "cell_type": "code",
   "execution_count": 2,
   "id": "41aa340d",
   "metadata": {},
   "outputs": [],
   "source": [
    "mydata=read.csv(\"529 prospecive dataset 20170615.csv\",header=TRUE,sep=\",\")"
   ]
  },
  {
   "cell_type": "markdown",
   "id": "09e297de",
   "metadata": {},
   "source": [
    "### Data engineering"
   ]
  },
  {
   "cell_type": "code",
   "execution_count": 3,
   "id": "828677bd",
   "metadata": {},
   "outputs": [],
   "source": [
    "mydata$death=as.factor(mydata$death)\n",
    "mydata$si=mydata$pulse/mydata$sbp\n",
    "mydata$pp=mydata$sbp-mydata$dbp\n",
    "mydata$buncre=mydata$bun/mydata$cre\n",
    "mydata$rdwrbc=mydata$rdw/mydata$rbc\n",
    "mydata$ddimerfdp=mydata$ddimer_case/mydata$fdp_case\n",
    "mydata$proteincc3=mydata$proteinc_case/mydata$c3_case\n",
    "mydata$ppi=mydata$lactate/mydata$map"
   ]
  },
  {
   "cell_type": "code",
   "execution_count": 4,
   "id": "1759fa62",
   "metadata": {},
   "outputs": [
    {
     "data": {
      "text/html": [
       "<style>\n",
       ".list-inline {list-style: none; margin:0; padding: 0}\n",
       ".list-inline>li {display: inline-block}\n",
       ".list-inline>li:not(:last-child)::after {content: \"\\00b7\"; padding: 0 .5ex}\n",
       "</style>\n",
       "<ol class=list-inline><li>529</li><li>120</li></ol>\n"
      ],
      "text/latex": [
       "\\begin{enumerate*}\n",
       "\\item 529\n",
       "\\item 120\n",
       "\\end{enumerate*}\n"
      ],
      "text/markdown": [
       "1. 529\n",
       "2. 120\n",
       "\n",
       "\n"
      ],
      "text/plain": [
       "[1] 529 120"
      ]
     },
     "metadata": {},
     "output_type": "display_data"
    }
   ],
   "source": [
    "dim(mydata)"
   ]
  },
  {
   "cell_type": "code",
   "execution_count": 5,
   "id": "1de965a9",
   "metadata": {},
   "outputs": [],
   "source": [
    "fitControl=trainControl(method=\"repeatedcv\",\n",
    "                        number=10,\n",
    "                        repeats=10,\n",
    "                        classProbs=TRUE,   \n",
    "                        summaryFunction=twoClassSummary,\n",
    "                        search=\"random\")"
   ]
  },
  {
   "cell_type": "markdown",
   "id": "e5d34c12",
   "metadata": {},
   "source": [
    "### Training for Support Vector Machine"
   ]
  },
  {
   "cell_type": "code",
   "execution_count": null,
   "id": "184ee204",
   "metadata": {},
   "outputs": [],
   "source": [
    "grid<-expand.grid(sigma=10^(-4:-1),C=c(1:100)/30)\n",
    "svm_train<-train(death~alb+cortisol+ppi+lactate+rr+rdwrbc+gcs+pt,\n",
    "                 data=mydata,\n",
    "                 method=\"svmRadial\",\n",
    "                 preProc=c(\"center\",\"scale\"),\n",
    "                 metric=\"ROC\",\n",
    "                 tuneGrid=grid,\n",
    "                 trControl=fitControl)"
   ]
  },
  {
   "cell_type": "markdown",
   "id": "6d841b01",
   "metadata": {},
   "source": [
    "### 2-D plots for SVM classification plots"
   ]
  },
  {
   "cell_type": "code",
   "execution_count": 6,
   "id": "e594a498",
   "metadata": {},
   "outputs": [
    {
     "name": "stderr",
     "output_type": "stream",
     "text": [
      "Loading required package: manipulate\n",
      "\n",
      "Warning message in library(package, lib.loc = lib.loc, character.only = TRUE, logical.return = TRUE, :\n",
      "\"there is no package called 'manipulate'\"\n"
     ]
    },
    {
     "data": {
      "image/png": "[encoded data removed]",
      "text/plain": [
       "Plot with title \"SVM classification plot\""
      ]
     },
     "metadata": {
      "image/png": {
       "height": 420,
       "width": 420
      }
     },
     "output_type": "display_data"
    }
   ],
   "source": [
    "require('manipulate')\n",
    "# Train a nonlinear SVM\n",
    "nonlinear.svm<-ksvm(death~rr+rdwrbc,\n",
    "                    data=mydata,\n",
    "                    type='C-svc',\n",
    "                    kernel='rbf',\n",
    "                    kpar=list(sigma=1),\n",
    "                    C=100,\n",
    "                    scale=c())\n",
    "plot(nonlinear.svm,data=mydata)"
   ]
  },
  {
   "cell_type": "markdown",
   "id": "0e75007f",
   "metadata": {},
   "source": [
    "## 3-D plots for SVM classification plots"
   ]
  },
  {
   "cell_type": "code",
   "execution_count": 7,
   "id": "1667f677",
   "metadata": {},
   "outputs": [],
   "source": [
    "library(e1071)\n",
    "library(rgl)\n",
    "library(misc3d)\n",
    "\n",
    "# Fit SVM\n",
    "smote_train1=mydata[,c(\"death\",\"alb\",\"ppi\",\"rdwrbc\")]\n",
    "smote_train1=as.data.frame(smote_train1)\n",
    "smote_train1$death=as.factor(smote_train1$death)\n",
    "svm_model=svm(death~alb+ppi+rdwrbc,\n",
    "              data=smote_train1,\n",
    "              type='C-classification',\n",
    "              kernel='linear',\n",
    "              scale=FALSE)"
   ]
  },
  {
   "cell_type": "code",
   "execution_count": 8,
   "id": "87f5ceeb",
   "metadata": {},
   "outputs": [],
   "source": [
    "w<-t(svm_model$coefs)%*%svm_model$SV\n",
    "detalization<-100 \n",
    "grid<-expand.grid(seq(from=min(smote_train1$alb),\n",
    "                      to=max(smote_train1$alb),\n",
    "                      length.out=detalization),     \n",
    "                  seq(from=min(smote_train1$ppi),\n",
    "                      to=max(smote_train1$ppi),\n",
    "                      length.out=detalization)) \n",
    "rdwrbc<-(svm_model$rho-w[1,1]*grid[,1]-w[1,2]*grid[,2])/w[1,3] \n",
    "plot3d(grid[,1],\n",
    "       grid[,2],\n",
    "       rdwrbc,\n",
    "       xlab=\"alb\",\n",
    "       ylab=\"ppi\",\n",
    "       zlab=\"rdwrbc\",\n",
    "       col=\"blue\",\n",
    "       main=\"3-D plot for SVM classification\",\n",
    "       top=TRUE,\n",
    "       lwd=8)"
   ]
  },
  {
   "cell_type": "code",
   "execution_count": 18,
   "id": "881b890c",
   "metadata": {},
   "outputs": [],
   "source": [
    "plot3d(smote_train1$alb[which(smote_train1$death==\"Death\")],\n",
    "       smote_train1$ppi[which(smote_train1$death==\"Death\")], \n",
    "       smote_train1$rdwrbc[which(smote_train1$death==\"Death\")], \n",
    "       col='red',\n",
    "       size=12,\n",
    "       add=TRUE) "
   ]
  },
  {
   "cell_type": "code",
   "execution_count": 19,
   "id": "2d27e39b",
   "metadata": {},
   "outputs": [],
   "source": [
    "plot3d(smote_train1$alb[which(smote_train1$death==\"Survival\")],\n",
    "       smote_train1$ppi[which(smote_train1$death==\"Survival\")], \n",
    "       smote_train1$rdwrbc[which(smote_train1$death==\"Survival\")], \n",
    "       col='green',\n",
    "       add=TRUE,\n",
    "       size=8)"
   ]
  },
  {
   "cell_type": "markdown",
   "id": "2f771375",
   "metadata": {},
   "source": [
    "## Histogram"
   ]
  },
  {
   "cell_type": "code",
   "execution_count": 21,
   "id": "e2257f88",
   "metadata": {},
   "outputs": [
    {
     "name": "stderr",
     "output_type": "stream",
     "text": [
      "Installing package into 'C:/Users/wujin/AppData/Local/R/win-library/4.3'\n",
      "(as 'lib' is unspecified)\n",
      "\n"
     ]
    },
    {
     "name": "stdout",
     "output_type": "stream",
     "text": [
      "package 'pastecs' successfully unpacked and MD5 sums checked\n",
      "\n",
      "The downloaded binary packages are in\n",
      "\tC:\\Users\\wujin\\AppData\\Local\\Temp\\RtmpSUDMXW\\downloaded_packages\n"
     ]
    }
   ],
   "source": [
    "install.packages('pastecs')"
   ]
  },
  {
   "cell_type": "code",
   "execution_count": 26,
   "id": "8be57430",
   "metadata": {},
   "outputs": [
    {
     "name": "stderr",
     "output_type": "stream",
     "text": [
      "The following object is masked _by_ .GlobalEnv:\n",
      "\n",
      "    rdwrbc\n",
      "\n",
      "\n",
      "The following objects are masked from mydata (pos = 3):\n",
      "\n",
      "    abdo_dist, abdo_pain, abdominal_infection, acut_conf, age,\n",
      "    agitation, alb, anorexia, aptt, ast, band, bilt, bun, buncre,\n",
      "    c3_case, ca_case, cdsum, ches_pain, ches_tigh, chfsum, chills,\n",
      "    ckdsum, clchl_case, cns_infection, cold_extr, confusion,\n",
      "    constipation, convulsion, copdsum, cortisol, cpdsum, cre, crp,\n",
      "    cyanosis, dbp, ddimer_case, ddimerfdp, death, dementia, diarrhea,\n",
      "    diff_void, diso_thin, dizziness, dmsum, drawsy, dry_coug, dry_lips,\n",
      "    dyspnea, dysuria, eos, fdp_case, fever, flan_pain, fluc_cour, gcs,\n",
      "    gene_sore, gene_weak, GU_infection, hb, headache, hematuria,\n",
      "    hemoptysis, hopsum, inattention, inorP, inr, lactate, leukemiasum,\n",
      "    liversum, lymphomasum, malaise, map, mchc, mcv, mldsum,\n",
      "    msk_infection, msldsum, mstsum, musc_sore, nasa_cong, nausea,\n",
      "    oliguria, other_infection, pct, plt, pp, ppi, prod_coug,\n",
      "    proteinc_case, proteincc3, pt, pudsum, pulse, rbc, rdsum, rdw,\n",
      "    rdwrbc, renalsum, res_infection, rr, runn_nose, sbp, shakingchill,\n",
      "    si, skin_infection, sneezing, sore_thro, spaO2, sputum, sugar,\n",
      "    sweat, syncope, tachycardia, thirsty, tmp, tumorsum, uric_case,\n",
      "    urin_freq, vomit, wbc\n",
      "\n",
      "\n",
      "The following objects are masked from mydata (pos = 4):\n",
      "\n",
      "    abdo_dist, abdo_pain, abdominal_infection, acut_conf, age,\n",
      "    agitation, alb, anorexia, aptt, ast, band, bilt, bun, buncre,\n",
      "    c3_case, ca_case, cdsum, ches_pain, ches_tigh, chfsum, chills,\n",
      "    ckdsum, clchl_case, cns_infection, cold_extr, confusion,\n",
      "    constipation, convulsion, copdsum, cortisol, cpdsum, cre, crp,\n",
      "    cyanosis, dbp, ddimer_case, ddimerfdp, death, dementia, diarrhea,\n",
      "    diff_void, diso_thin, dizziness, dmsum, drawsy, dry_coug, dry_lips,\n",
      "    dyspnea, dysuria, eos, fdp_case, fever, flan_pain, fluc_cour, gcs,\n",
      "    gene_sore, gene_weak, GU_infection, hb, headache, hematuria,\n",
      "    hemoptysis, hopsum, inattention, inorP, inr, lactate, leukemiasum,\n",
      "    liversum, lymphomasum, malaise, map, mchc, mcv, mldsum,\n",
      "    msk_infection, msldsum, mstsum, musc_sore, nasa_cong, nausea,\n",
      "    oliguria, other_infection, pct, plt, pp, ppi, prod_coug,\n",
      "    proteinc_case, proteincc3, pt, pudsum, pulse, rbc, rdsum, rdw,\n",
      "    rdwrbc, renalsum, res_infection, rr, runn_nose, sbp, shakingchill,\n",
      "    si, skin_infection, sneezing, sore_thro, spaO2, sputum, sugar,\n",
      "    sweat, syncope, tachycardia, thirsty, tmp, tumorsum, uric_case,\n",
      "    urin_freq, vomit, wbc\n",
      "\n",
      "\n",
      "The following objects are masked from spb320 (pos = 5):\n",
      "\n",
      "    abdominal_infection, age, alb, aptt, ast, band, bilt, bun, c3_case,\n",
      "    ca_case, clchl_case, cns_infection, cortisol, cre, crp, dbp,\n",
      "    ddimer_case, death, eos, fdp_case, gcs, GU_infection, hb, inorP,\n",
      "    inr, lactate, map, mchc, mcv, msk_infection, other_infection, pct,\n",
      "    plt, proteinc_case, pt, pulse, rbc, rdw, res_infection, rr, sbp,\n",
      "    skin_infection, spaO2, sugar, tmp, uric_case, wbc\n",
      "\n",
      "\n",
      "The following objects are masked from spb320 (pos = 6):\n",
      "\n",
      "    abdominal_infection, age, alb, aptt, ast, band, bilt, bun, c3_case,\n",
      "    ca_case, clchl_case, cns_infection, cortisol, cre, crp, dbp,\n",
      "    ddimer_case, death, eos, fdp_case, gcs, GU_infection, hb, inorP,\n",
      "    inr, lactate, map, mchc, mcv, msk_infection, other_infection, pct,\n",
      "    plt, proteinc_case, pt, pulse, rbc, rdw, res_infection, rr, sbp,\n",
      "    skin_infection, spaO2, sugar, tmp, uric_case, wbc\n",
      "\n",
      "\n",
      "Warning message in cbind(age, tmp, pulse, sbp, dbp, rr, spaO2, map, gcs, wbc, band, :\n",
      "\"number of rows of result is not a multiple of vector length (arg 1)\"\n"
     ]
    },
    {
     "data": {
      "text/html": [
       "<table class=\"dataframe\">\n",
       "<caption>A data.frame: 14 × 51</caption>\n",
       "<thead>\n",
       "\t<tr><th></th><th scope=col>age</th><th scope=col>tmp</th><th scope=col>pulse</th><th scope=col>sbp</th><th scope=col>dbp</th><th scope=col>rr</th><th scope=col>spaO2</th><th scope=col>map</th><th scope=col>gcs</th><th scope=col>wbc</th><th scope=col>⋯</th><th scope=col>sCD163</th><th scope=col>IL10</th><th scope=col>Pentraxin3</th><th scope=col>CD14</th><th scope=col>TREM1</th><th scope=col>CD64</th><th scope=col>ICAM1</th><th scope=col>Eselectin</th><th scope=col>Pselectin</th><th scope=col>VCAM1</th></tr>\n",
       "\t<tr><th></th><th scope=col>&lt;dbl&gt;</th><th scope=col>&lt;dbl&gt;</th><th scope=col>&lt;dbl&gt;</th><th scope=col>&lt;dbl&gt;</th><th scope=col>&lt;dbl&gt;</th><th scope=col>&lt;dbl&gt;</th><th scope=col>&lt;dbl&gt;</th><th scope=col>&lt;dbl&gt;</th><th scope=col>&lt;dbl&gt;</th><th scope=col>&lt;dbl&gt;</th><th scope=col>⋯</th><th scope=col>&lt;dbl&gt;</th><th scope=col>&lt;dbl&gt;</th><th scope=col>&lt;dbl&gt;</th><th scope=col>&lt;dbl&gt;</th><th scope=col>&lt;dbl&gt;</th><th scope=col>&lt;dbl&gt;</th><th scope=col>&lt;dbl&gt;</th><th scope=col>&lt;dbl&gt;</th><th scope=col>&lt;dbl&gt;</th><th scope=col>&lt;dbl&gt;</th></tr>\n",
       "</thead>\n",
       "<tbody>\n",
       "\t<tr><th scope=row>nbr.val</th><td>  644.00</td><td>  644.000</td><td>  644.00</td><td>  644.00</td><td>  644.00</td><td>  644.00</td><td>  644.000</td><td>  644.00</td><td> 644.00</td><td> 644.00</td><td>⋯</td><td> 94.00</td><td>    94.000</td><td> 94.00</td><td> 94.000</td><td> 94.000</td><td>   94.00</td><td>  94.00</td><td> 94.0</td><td> 94.00</td><td> 94.000</td></tr>\n",
       "\t<tr><th scope=row>nbr.null</th><td>    0.00</td><td>    0.000</td><td>    0.00</td><td>    0.00</td><td>    0.00</td><td>    0.00</td><td>    0.000</td><td>    0.00</td><td>   0.00</td><td>   0.00</td><td>⋯</td><td>  0.00</td><td>     0.000</td><td>  0.00</td><td>  0.000</td><td>  0.000</td><td>    0.00</td><td>   0.00</td><td>  0.0</td><td>  0.00</td><td>  0.000</td></tr>\n",
       "\t<tr><th scope=row>nbr.na</th><td>    0.00</td><td>    0.000</td><td>    0.00</td><td>    0.00</td><td>    0.00</td><td>    0.00</td><td>    0.000</td><td>    0.00</td><td>   0.00</td><td>   0.00</td><td>⋯</td><td>550.00</td><td>   550.000</td><td>550.00</td><td>550.000</td><td>550.000</td><td>  550.00</td><td> 550.00</td><td>550.0</td><td>550.00</td><td>550.000</td></tr>\n",
       "\t<tr><th scope=row>min</th><td>   18.00</td><td>   33.500</td><td>   36.00</td><td>   38.00</td><td>   28.00</td><td>   13.00</td><td>   65.000</td><td>   31.33</td><td>   3.00</td><td>   0.30</td><td>⋯</td><td>  0.15</td><td>     0.005</td><td>  0.07</td><td>  1.195</td><td>  0.030</td><td>    2.99</td><td>   2.59</td><td>  1.2</td><td>  1.38</td><td>  0.061</td></tr>\n",
       "\t<tr><th scope=row>max</th><td>   98.00</td><td>   42.200</td><td>  208.00</td><td>  223.00</td><td>  144.00</td><td>   51.00</td><td>   99.000</td><td>  165.33</td><td>  15.00</td><td>  51.70</td><td>⋯</td><td>  7.25</td><td>  3289.311</td><td>  5.50</td><td>  5.541</td><td>  2.878</td><td>  495.29</td><td>  76.54</td><td>105.3</td><td> 13.45</td><td>  1.414</td></tr>\n",
       "\t<tr><th scope=row>range</th><td>   80.00</td><td>    8.700</td><td>  172.00</td><td>  185.00</td><td>  116.00</td><td>   38.00</td><td>   34.000</td><td>  134.00</td><td>  12.00</td><td>  51.40</td><td>⋯</td><td>  7.09</td><td>  3289.306</td><td>  5.43</td><td>  4.346</td><td>  2.848</td><td>  492.29</td><td>  73.94</td><td>104.1</td><td> 12.07</td><td>  1.352</td></tr>\n",
       "\t<tr><th scope=row>sum</th><td>42200.00</td><td>24479.900</td><td>71534.00</td><td>83953.00</td><td>48500.00</td><td>13772.00</td><td>60010.000</td><td>60326.00</td><td>8660.00</td><td>8403.90</td><td>⋯</td><td>165.53</td><td>  6640.953</td><td>142.46</td><td>221.264</td><td> 62.406</td><td>14599.84</td><td>1653.48</td><td>980.7</td><td>504.44</td><td> 29.267</td></tr>\n",
       "\t<tr><th scope=row>median</th><td>   66.50</td><td>   38.100</td><td>  111.00</td><td>  129.00</td><td>   74.00</td><td>   20.00</td><td>   95.000</td><td>   93.00</td><td>  15.00</td><td>  12.50</td><td>⋯</td><td>  1.29</td><td>     1.229</td><td>  1.09</td><td>  2.249</td><td>  0.529</td><td>  134.80</td><td>  12.79</td><td>  6.5</td><td>  5.03</td><td>  0.234</td></tr>\n",
       "\t<tr><th scope=row>mean</th><td>   65.53</td><td>   38.012</td><td>  111.08</td><td>  130.36</td><td>   75.31</td><td>   21.39</td><td>   93.183</td><td>   93.67</td><td>  13.45</td><td>  13.05</td><td>⋯</td><td>  1.76</td><td>    70.648</td><td>  1.52</td><td>  2.354</td><td>  0.664</td><td>  155.32</td><td>  17.59</td><td> 10.4</td><td>  5.37</td><td>  0.311</td></tr>\n",
       "\t<tr><th scope=row>SE.mean</th><td>    0.64</td><td>    0.053</td><td>    0.92</td><td>    1.27</td><td>    0.72</td><td>    0.16</td><td>    0.218</td><td>    0.85</td><td>   0.12</td><td>   0.29</td><td>⋯</td><td>  0.14</td><td>    37.307</td><td>  0.13</td><td>  0.084</td><td>  0.055</td><td>   11.53</td><td>   1.46</td><td>  1.4</td><td>  0.22</td><td>  0.026</td></tr>\n",
       "\t<tr><th scope=row>CI.mean.0.95</th><td>    1.25</td><td>    0.104</td><td>    1.81</td><td>    2.50</td><td>    1.41</td><td>    0.31</td><td>    0.429</td><td>    1.66</td><td>   0.24</td><td>   0.57</td><td>⋯</td><td>  0.27</td><td>    74.084</td><td>  0.25</td><td>  0.167</td><td>  0.109</td><td>   22.89</td><td>   2.91</td><td>  2.8</td><td>  0.44</td><td>  0.051</td></tr>\n",
       "\t<tr><th scope=row>var</th><td>  260.29</td><td>    1.810</td><td>  547.96</td><td> 1042.14</td><td>  330.96</td><td>   16.08</td><td>   30.732</td><td>  460.96</td><td>   9.50</td><td>  54.11</td><td>⋯</td><td>  1.76</td><td>130828.750</td><td>  1.53</td><td>  0.662</td><td>  0.285</td><td>12489.03</td><td> 201.70</td><td>189.8</td><td>  4.66</td><td>  0.062</td></tr>\n",
       "\t<tr><th scope=row>std.dev</th><td>   16.13</td><td>    1.345</td><td>   23.41</td><td>   32.28</td><td>   18.19</td><td>    4.01</td><td>    5.544</td><td>   21.47</td><td>   3.08</td><td>   7.36</td><td>⋯</td><td>  1.33</td><td>   361.703</td><td>  1.24</td><td>  0.814</td><td>  0.534</td><td>  111.75</td><td>  14.20</td><td> 13.8</td><td>  2.16</td><td>  0.249</td></tr>\n",
       "\t<tr><th scope=row>coef.var</th><td>    0.25</td><td>    0.035</td><td>    0.21</td><td>    0.25</td><td>    0.24</td><td>    0.19</td><td>    0.059</td><td>    0.23</td><td>   0.23</td><td>   0.56</td><td>⋯</td><td>  0.75</td><td>     5.120</td><td>  0.82</td><td>  0.346</td><td>  0.804</td><td>    0.72</td><td>   0.81</td><td>  1.3</td><td>  0.40</td><td>  0.798</td></tr>\n",
       "</tbody>\n",
       "</table>\n"
      ],
      "text/latex": [
       "A data.frame: 14 × 51\n",
       "\\begin{tabular}{r|lllllllllllllllllllll}\n",
       "  & age & tmp & pulse & sbp & dbp & rr & spaO2 & map & gcs & wbc & ⋯ & sCD163 & IL10 & Pentraxin3 & CD14 & TREM1 & CD64 & ICAM1 & Eselectin & Pselectin & VCAM1\\\\\n",
       "  & <dbl> & <dbl> & <dbl> & <dbl> & <dbl> & <dbl> & <dbl> & <dbl> & <dbl> & <dbl> & ⋯ & <dbl> & <dbl> & <dbl> & <dbl> & <dbl> & <dbl> & <dbl> & <dbl> & <dbl> & <dbl>\\\\\n",
       "\\hline\n",
       "\tnbr.val &   644.00 &   644.000 &   644.00 &   644.00 &   644.00 &   644.00 &   644.000 &   644.00 &  644.00 &  644.00 & ⋯ &  94.00 &     94.000 &  94.00 &  94.000 &  94.000 &    94.00 &   94.00 &  94.0 &  94.00 &  94.000\\\\\n",
       "\tnbr.null &     0.00 &     0.000 &     0.00 &     0.00 &     0.00 &     0.00 &     0.000 &     0.00 &    0.00 &    0.00 & ⋯ &   0.00 &      0.000 &   0.00 &   0.000 &   0.000 &     0.00 &    0.00 &   0.0 &   0.00 &   0.000\\\\\n",
       "\tnbr.na &     0.00 &     0.000 &     0.00 &     0.00 &     0.00 &     0.00 &     0.000 &     0.00 &    0.00 &    0.00 & ⋯ & 550.00 &    550.000 & 550.00 & 550.000 & 550.000 &   550.00 &  550.00 & 550.0 & 550.00 & 550.000\\\\\n",
       "\tmin &    18.00 &    33.500 &    36.00 &    38.00 &    28.00 &    13.00 &    65.000 &    31.33 &    3.00 &    0.30 & ⋯ &   0.15 &      0.005 &   0.07 &   1.195 &   0.030 &     2.99 &    2.59 &   1.2 &   1.38 &   0.061\\\\\n",
       "\tmax &    98.00 &    42.200 &   208.00 &   223.00 &   144.00 &    51.00 &    99.000 &   165.33 &   15.00 &   51.70 & ⋯ &   7.25 &   3289.311 &   5.50 &   5.541 &   2.878 &   495.29 &   76.54 & 105.3 &  13.45 &   1.414\\\\\n",
       "\trange &    80.00 &     8.700 &   172.00 &   185.00 &   116.00 &    38.00 &    34.000 &   134.00 &   12.00 &   51.40 & ⋯ &   7.09 &   3289.306 &   5.43 &   4.346 &   2.848 &   492.29 &   73.94 & 104.1 &  12.07 &   1.352\\\\\n",
       "\tsum & 42200.00 & 24479.900 & 71534.00 & 83953.00 & 48500.00 & 13772.00 & 60010.000 & 60326.00 & 8660.00 & 8403.90 & ⋯ & 165.53 &   6640.953 & 142.46 & 221.264 &  62.406 & 14599.84 & 1653.48 & 980.7 & 504.44 &  29.267\\\\\n",
       "\tmedian &    66.50 &    38.100 &   111.00 &   129.00 &    74.00 &    20.00 &    95.000 &    93.00 &   15.00 &   12.50 & ⋯ &   1.29 &      1.229 &   1.09 &   2.249 &   0.529 &   134.80 &   12.79 &   6.5 &   5.03 &   0.234\\\\\n",
       "\tmean &    65.53 &    38.012 &   111.08 &   130.36 &    75.31 &    21.39 &    93.183 &    93.67 &   13.45 &   13.05 & ⋯ &   1.76 &     70.648 &   1.52 &   2.354 &   0.664 &   155.32 &   17.59 &  10.4 &   5.37 &   0.311\\\\\n",
       "\tSE.mean &     0.64 &     0.053 &     0.92 &     1.27 &     0.72 &     0.16 &     0.218 &     0.85 &    0.12 &    0.29 & ⋯ &   0.14 &     37.307 &   0.13 &   0.084 &   0.055 &    11.53 &    1.46 &   1.4 &   0.22 &   0.026\\\\\n",
       "\tCI.mean.0.95 &     1.25 &     0.104 &     1.81 &     2.50 &     1.41 &     0.31 &     0.429 &     1.66 &    0.24 &    0.57 & ⋯ &   0.27 &     74.084 &   0.25 &   0.167 &   0.109 &    22.89 &    2.91 &   2.8 &   0.44 &   0.051\\\\\n",
       "\tvar &   260.29 &     1.810 &   547.96 &  1042.14 &   330.96 &    16.08 &    30.732 &   460.96 &    9.50 &   54.11 & ⋯ &   1.76 & 130828.750 &   1.53 &   0.662 &   0.285 & 12489.03 &  201.70 & 189.8 &   4.66 &   0.062\\\\\n",
       "\tstd.dev &    16.13 &     1.345 &    23.41 &    32.28 &    18.19 &     4.01 &     5.544 &    21.47 &    3.08 &    7.36 & ⋯ &   1.33 &    361.703 &   1.24 &   0.814 &   0.534 &   111.75 &   14.20 &  13.8 &   2.16 &   0.249\\\\\n",
       "\tcoef.var &     0.25 &     0.035 &     0.21 &     0.25 &     0.24 &     0.19 &     0.059 &     0.23 &    0.23 &    0.56 & ⋯ &   0.75 &      5.120 &   0.82 &   0.346 &   0.804 &     0.72 &    0.81 &   1.3 &   0.40 &   0.798\\\\\n",
       "\\end{tabular}\n"
      ],
      "text/markdown": [
       "\n",
       "A data.frame: 14 × 51\n",
       "\n",
       "| <!--/--> | age &lt;dbl&gt; | tmp &lt;dbl&gt; | pulse &lt;dbl&gt; | sbp &lt;dbl&gt; | dbp &lt;dbl&gt; | rr &lt;dbl&gt; | spaO2 &lt;dbl&gt; | map &lt;dbl&gt; | gcs &lt;dbl&gt; | wbc &lt;dbl&gt; | ⋯ ⋯ | sCD163 &lt;dbl&gt; | IL10 &lt;dbl&gt; | Pentraxin3 &lt;dbl&gt; | CD14 &lt;dbl&gt; | TREM1 &lt;dbl&gt; | CD64 &lt;dbl&gt; | ICAM1 &lt;dbl&gt; | Eselectin &lt;dbl&gt; | Pselectin &lt;dbl&gt; | VCAM1 &lt;dbl&gt; |\n",
       "|---|---|---|---|---|---|---|---|---|---|---|---|---|---|---|---|---|---|---|---|---|---|\n",
       "| nbr.val |   644.00 |   644.000 |   644.00 |   644.00 |   644.00 |   644.00 |   644.000 |   644.00 |  644.00 |  644.00 | ⋯ |  94.00 |     94.000 |  94.00 |  94.000 |  94.000 |    94.00 |   94.00 |  94.0 |  94.00 |  94.000 |\n",
       "| nbr.null |     0.00 |     0.000 |     0.00 |     0.00 |     0.00 |     0.00 |     0.000 |     0.00 |    0.00 |    0.00 | ⋯ |   0.00 |      0.000 |   0.00 |   0.000 |   0.000 |     0.00 |    0.00 |   0.0 |   0.00 |   0.000 |\n",
       "| nbr.na |     0.00 |     0.000 |     0.00 |     0.00 |     0.00 |     0.00 |     0.000 |     0.00 |    0.00 |    0.00 | ⋯ | 550.00 |    550.000 | 550.00 | 550.000 | 550.000 |   550.00 |  550.00 | 550.0 | 550.00 | 550.000 |\n",
       "| min |    18.00 |    33.500 |    36.00 |    38.00 |    28.00 |    13.00 |    65.000 |    31.33 |    3.00 |    0.30 | ⋯ |   0.15 |      0.005 |   0.07 |   1.195 |   0.030 |     2.99 |    2.59 |   1.2 |   1.38 |   0.061 |\n",
       "| max |    98.00 |    42.200 |   208.00 |   223.00 |   144.00 |    51.00 |    99.000 |   165.33 |   15.00 |   51.70 | ⋯ |   7.25 |   3289.311 |   5.50 |   5.541 |   2.878 |   495.29 |   76.54 | 105.3 |  13.45 |   1.414 |\n",
       "| range |    80.00 |     8.700 |   172.00 |   185.00 |   116.00 |    38.00 |    34.000 |   134.00 |   12.00 |   51.40 | ⋯ |   7.09 |   3289.306 |   5.43 |   4.346 |   2.848 |   492.29 |   73.94 | 104.1 |  12.07 |   1.352 |\n",
       "| sum | 42200.00 | 24479.900 | 71534.00 | 83953.00 | 48500.00 | 13772.00 | 60010.000 | 60326.00 | 8660.00 | 8403.90 | ⋯ | 165.53 |   6640.953 | 142.46 | 221.264 |  62.406 | 14599.84 | 1653.48 | 980.7 | 504.44 |  29.267 |\n",
       "| median |    66.50 |    38.100 |   111.00 |   129.00 |    74.00 |    20.00 |    95.000 |    93.00 |   15.00 |   12.50 | ⋯ |   1.29 |      1.229 |   1.09 |   2.249 |   0.529 |   134.80 |   12.79 |   6.5 |   5.03 |   0.234 |\n",
       "| mean |    65.53 |    38.012 |   111.08 |   130.36 |    75.31 |    21.39 |    93.183 |    93.67 |   13.45 |   13.05 | ⋯ |   1.76 |     70.648 |   1.52 |   2.354 |   0.664 |   155.32 |   17.59 |  10.4 |   5.37 |   0.311 |\n",
       "| SE.mean |     0.64 |     0.053 |     0.92 |     1.27 |     0.72 |     0.16 |     0.218 |     0.85 |    0.12 |    0.29 | ⋯ |   0.14 |     37.307 |   0.13 |   0.084 |   0.055 |    11.53 |    1.46 |   1.4 |   0.22 |   0.026 |\n",
       "| CI.mean.0.95 |     1.25 |     0.104 |     1.81 |     2.50 |     1.41 |     0.31 |     0.429 |     1.66 |    0.24 |    0.57 | ⋯ |   0.27 |     74.084 |   0.25 |   0.167 |   0.109 |    22.89 |    2.91 |   2.8 |   0.44 |   0.051 |\n",
       "| var |   260.29 |     1.810 |   547.96 |  1042.14 |   330.96 |    16.08 |    30.732 |   460.96 |    9.50 |   54.11 | ⋯ |   1.76 | 130828.750 |   1.53 |   0.662 |   0.285 | 12489.03 |  201.70 | 189.8 |   4.66 |   0.062 |\n",
       "| std.dev |    16.13 |     1.345 |    23.41 |    32.28 |    18.19 |     4.01 |     5.544 |    21.47 |    3.08 |    7.36 | ⋯ |   1.33 |    361.703 |   1.24 |   0.814 |   0.534 |   111.75 |   14.20 |  13.8 |   2.16 |   0.249 |\n",
       "| coef.var |     0.25 |     0.035 |     0.21 |     0.25 |     0.24 |     0.19 |     0.059 |     0.23 |    0.23 |    0.56 | ⋯ |   0.75 |      5.120 |   0.82 |   0.346 |   0.804 |     0.72 |    0.81 |   1.3 |   0.40 |   0.798 |\n",
       "\n"
      ],
      "text/plain": [
       "             age      tmp       pulse    sbp      dbp      rr       spaO2    \n",
       "nbr.val        644.00   644.000   644.00   644.00   644.00   644.00   644.000\n",
       "nbr.null         0.00     0.000     0.00     0.00     0.00     0.00     0.000\n",
       "nbr.na           0.00     0.000     0.00     0.00     0.00     0.00     0.000\n",
       "min             18.00    33.500    36.00    38.00    28.00    13.00    65.000\n",
       "max             98.00    42.200   208.00   223.00   144.00    51.00    99.000\n",
       "range           80.00     8.700   172.00   185.00   116.00    38.00    34.000\n",
       "sum          42200.00 24479.900 71534.00 83953.00 48500.00 13772.00 60010.000\n",
       "median          66.50    38.100   111.00   129.00    74.00    20.00    95.000\n",
       "mean            65.53    38.012   111.08   130.36    75.31    21.39    93.183\n",
       "SE.mean          0.64     0.053     0.92     1.27     0.72     0.16     0.218\n",
       "CI.mean.0.95     1.25     0.104     1.81     2.50     1.41     0.31     0.429\n",
       "var            260.29     1.810   547.96  1042.14   330.96    16.08    30.732\n",
       "std.dev         16.13     1.345    23.41    32.28    18.19     4.01     5.544\n",
       "coef.var         0.25     0.035     0.21     0.25     0.24     0.19     0.059\n",
       "             map      gcs     wbc     ⋯ sCD163 IL10       Pentraxin3 CD14   \n",
       "nbr.val        644.00  644.00  644.00 ⋯  94.00     94.000  94.00      94.000\n",
       "nbr.null         0.00    0.00    0.00 ⋯   0.00      0.000   0.00       0.000\n",
       "nbr.na           0.00    0.00    0.00 ⋯ 550.00    550.000 550.00     550.000\n",
       "min             31.33    3.00    0.30 ⋯   0.15      0.005   0.07       1.195\n",
       "max            165.33   15.00   51.70 ⋯   7.25   3289.311   5.50       5.541\n",
       "range          134.00   12.00   51.40 ⋯   7.09   3289.306   5.43       4.346\n",
       "sum          60326.00 8660.00 8403.90 ⋯ 165.53   6640.953 142.46     221.264\n",
       "median          93.00   15.00   12.50 ⋯   1.29      1.229   1.09       2.249\n",
       "mean            93.67   13.45   13.05 ⋯   1.76     70.648   1.52       2.354\n",
       "SE.mean          0.85    0.12    0.29 ⋯   0.14     37.307   0.13       0.084\n",
       "CI.mean.0.95     1.66    0.24    0.57 ⋯   0.27     74.084   0.25       0.167\n",
       "var            460.96    9.50   54.11 ⋯   1.76 130828.750   1.53       0.662\n",
       "std.dev         21.47    3.08    7.36 ⋯   1.33    361.703   1.24       0.814\n",
       "coef.var         0.23    0.23    0.56 ⋯   0.75      5.120   0.82       0.346\n",
       "             TREM1   CD64     ICAM1   Eselectin Pselectin VCAM1  \n",
       "nbr.val       94.000    94.00   94.00  94.0      94.00     94.000\n",
       "nbr.null       0.000     0.00    0.00   0.0       0.00      0.000\n",
       "nbr.na       550.000   550.00  550.00 550.0     550.00    550.000\n",
       "min            0.030     2.99    2.59   1.2       1.38      0.061\n",
       "max            2.878   495.29   76.54 105.3      13.45      1.414\n",
       "range          2.848   492.29   73.94 104.1      12.07      1.352\n",
       "sum           62.406 14599.84 1653.48 980.7     504.44     29.267\n",
       "median         0.529   134.80   12.79   6.5       5.03      0.234\n",
       "mean           0.664   155.32   17.59  10.4       5.37      0.311\n",
       "SE.mean        0.055    11.53    1.46   1.4       0.22      0.026\n",
       "CI.mean.0.95   0.109    22.89    2.91   2.8       0.44      0.051\n",
       "var            0.285 12489.03  201.70 189.8       4.66      0.062\n",
       "std.dev        0.534   111.75   14.20  13.8       2.16      0.249\n",
       "coef.var       0.804     0.72    0.81   1.3       0.40      0.798"
      ]
     },
     "metadata": {},
     "output_type": "display_data"
    },
    {
     "data": {
      "text/html": [
       "<table class=\"dataframe\">\n",
       "<caption>A data.frame: 14 × 51</caption>\n",
       "<thead>\n",
       "\t<tr><th></th><th scope=col>age</th><th scope=col>tmp</th><th scope=col>pulse</th><th scope=col>sbp</th><th scope=col>dbp</th><th scope=col>rr</th><th scope=col>spaO2</th><th scope=col>map</th><th scope=col>gcs</th><th scope=col>wbc</th><th scope=col>⋯</th><th scope=col>sCD163</th><th scope=col>IL10</th><th scope=col>Pentraxin3</th><th scope=col>CD14</th><th scope=col>TREM1</th><th scope=col>CD64</th><th scope=col>ICAM1</th><th scope=col>Eselectin</th><th scope=col>Pselectin</th><th scope=col>VCAM1</th></tr>\n",
       "\t<tr><th></th><th scope=col>&lt;dbl&gt;</th><th scope=col>&lt;dbl&gt;</th><th scope=col>&lt;dbl&gt;</th><th scope=col>&lt;dbl&gt;</th><th scope=col>&lt;dbl&gt;</th><th scope=col>&lt;dbl&gt;</th><th scope=col>&lt;dbl&gt;</th><th scope=col>&lt;dbl&gt;</th><th scope=col>&lt;dbl&gt;</th><th scope=col>&lt;dbl&gt;</th><th scope=col>⋯</th><th scope=col>&lt;dbl&gt;</th><th scope=col>&lt;dbl&gt;</th><th scope=col>&lt;dbl&gt;</th><th scope=col>&lt;dbl&gt;</th><th scope=col>&lt;dbl&gt;</th><th scope=col>&lt;dbl&gt;</th><th scope=col>&lt;dbl&gt;</th><th scope=col>&lt;dbl&gt;</th><th scope=col>&lt;dbl&gt;</th><th scope=col>&lt;dbl&gt;</th></tr>\n",
       "</thead>\n",
       "<tbody>\n",
       "\t<tr><th scope=row>nbr.val</th><td>  644.00</td><td>  644.000</td><td>  644.00</td><td>  644.00</td><td>  644.00</td><td>  644.00</td><td>  644.000</td><td>  644.00</td><td> 644.00</td><td> 644.00</td><td>⋯</td><td> 94.00</td><td>    94.000</td><td> 94.00</td><td> 94.000</td><td> 94.000</td><td>   94.00</td><td>  94.00</td><td> 94.0</td><td> 94.00</td><td> 94.000</td></tr>\n",
       "\t<tr><th scope=row>nbr.null</th><td>    0.00</td><td>    0.000</td><td>    0.00</td><td>    0.00</td><td>    0.00</td><td>    0.00</td><td>    0.000</td><td>    0.00</td><td>   0.00</td><td>   0.00</td><td>⋯</td><td>  0.00</td><td>     0.000</td><td>  0.00</td><td>  0.000</td><td>  0.000</td><td>    0.00</td><td>   0.00</td><td>  0.0</td><td>  0.00</td><td>  0.000</td></tr>\n",
       "\t<tr><th scope=row>nbr.na</th><td>    0.00</td><td>    0.000</td><td>    0.00</td><td>    0.00</td><td>    0.00</td><td>    0.00</td><td>    0.000</td><td>    0.00</td><td>   0.00</td><td>   0.00</td><td>⋯</td><td>550.00</td><td>   550.000</td><td>550.00</td><td>550.000</td><td>550.000</td><td>  550.00</td><td> 550.00</td><td>550.0</td><td>550.00</td><td>550.000</td></tr>\n",
       "\t<tr><th scope=row>min</th><td>   18.00</td><td>   33.500</td><td>   36.00</td><td>   38.00</td><td>   28.00</td><td>   13.00</td><td>   65.000</td><td>   31.33</td><td>   3.00</td><td>   0.30</td><td>⋯</td><td>  0.15</td><td>     0.005</td><td>  0.07</td><td>  1.195</td><td>  0.030</td><td>    2.99</td><td>   2.59</td><td>  1.2</td><td>  1.38</td><td>  0.061</td></tr>\n",
       "\t<tr><th scope=row>max</th><td>   98.00</td><td>   42.200</td><td>  208.00</td><td>  223.00</td><td>  144.00</td><td>   51.00</td><td>   99.000</td><td>  165.33</td><td>  15.00</td><td>  51.70</td><td>⋯</td><td>  7.25</td><td>  3289.311</td><td>  5.50</td><td>  5.541</td><td>  2.878</td><td>  495.29</td><td>  76.54</td><td>105.3</td><td> 13.45</td><td>  1.414</td></tr>\n",
       "\t<tr><th scope=row>range</th><td>   80.00</td><td>    8.700</td><td>  172.00</td><td>  185.00</td><td>  116.00</td><td>   38.00</td><td>   34.000</td><td>  134.00</td><td>  12.00</td><td>  51.40</td><td>⋯</td><td>  7.09</td><td>  3289.306</td><td>  5.43</td><td>  4.346</td><td>  2.848</td><td>  492.29</td><td>  73.94</td><td>104.1</td><td> 12.07</td><td>  1.352</td></tr>\n",
       "\t<tr><th scope=row>sum</th><td>42200.00</td><td>24479.900</td><td>71534.00</td><td>83953.00</td><td>48500.00</td><td>13772.00</td><td>60010.000</td><td>60326.00</td><td>8660.00</td><td>8403.90</td><td>⋯</td><td>165.53</td><td>  6640.953</td><td>142.46</td><td>221.264</td><td> 62.406</td><td>14599.84</td><td>1653.48</td><td>980.7</td><td>504.44</td><td> 29.267</td></tr>\n",
       "\t<tr><th scope=row>median</th><td>   66.50</td><td>   38.100</td><td>  111.00</td><td>  129.00</td><td>   74.00</td><td>   20.00</td><td>   95.000</td><td>   93.00</td><td>  15.00</td><td>  12.50</td><td>⋯</td><td>  1.29</td><td>     1.229</td><td>  1.09</td><td>  2.249</td><td>  0.529</td><td>  134.80</td><td>  12.79</td><td>  6.5</td><td>  5.03</td><td>  0.234</td></tr>\n",
       "\t<tr><th scope=row>mean</th><td>   65.53</td><td>   38.012</td><td>  111.08</td><td>  130.36</td><td>   75.31</td><td>   21.39</td><td>   93.183</td><td>   93.67</td><td>  13.45</td><td>  13.05</td><td>⋯</td><td>  1.76</td><td>    70.648</td><td>  1.52</td><td>  2.354</td><td>  0.664</td><td>  155.32</td><td>  17.59</td><td> 10.4</td><td>  5.37</td><td>  0.311</td></tr>\n",
       "\t<tr><th scope=row>SE.mean</th><td>    0.64</td><td>    0.053</td><td>    0.92</td><td>    1.27</td><td>    0.72</td><td>    0.16</td><td>    0.218</td><td>    0.85</td><td>   0.12</td><td>   0.29</td><td>⋯</td><td>  0.14</td><td>    37.307</td><td>  0.13</td><td>  0.084</td><td>  0.055</td><td>   11.53</td><td>   1.46</td><td>  1.4</td><td>  0.22</td><td>  0.026</td></tr>\n",
       "\t<tr><th scope=row>CI.mean.0.95</th><td>    1.25</td><td>    0.104</td><td>    1.81</td><td>    2.50</td><td>    1.41</td><td>    0.31</td><td>    0.429</td><td>    1.66</td><td>   0.24</td><td>   0.57</td><td>⋯</td><td>  0.27</td><td>    74.084</td><td>  0.25</td><td>  0.167</td><td>  0.109</td><td>   22.89</td><td>   2.91</td><td>  2.8</td><td>  0.44</td><td>  0.051</td></tr>\n",
       "\t<tr><th scope=row>var</th><td>  260.29</td><td>    1.810</td><td>  547.96</td><td> 1042.14</td><td>  330.96</td><td>   16.08</td><td>   30.732</td><td>  460.96</td><td>   9.50</td><td>  54.11</td><td>⋯</td><td>  1.76</td><td>130828.750</td><td>  1.53</td><td>  0.662</td><td>  0.285</td><td>12489.03</td><td> 201.70</td><td>189.8</td><td>  4.66</td><td>  0.062</td></tr>\n",
       "\t<tr><th scope=row>std.dev</th><td>   16.13</td><td>    1.345</td><td>   23.41</td><td>   32.28</td><td>   18.19</td><td>    4.01</td><td>    5.544</td><td>   21.47</td><td>   3.08</td><td>   7.36</td><td>⋯</td><td>  1.33</td><td>   361.703</td><td>  1.24</td><td>  0.814</td><td>  0.534</td><td>  111.75</td><td>  14.20</td><td> 13.8</td><td>  2.16</td><td>  0.249</td></tr>\n",
       "\t<tr><th scope=row>coef.var</th><td>    0.25</td><td>    0.035</td><td>    0.21</td><td>    0.25</td><td>    0.24</td><td>    0.19</td><td>    0.059</td><td>    0.23</td><td>   0.23</td><td>   0.56</td><td>⋯</td><td>  0.75</td><td>     5.120</td><td>  0.82</td><td>  0.346</td><td>  0.804</td><td>    0.72</td><td>   0.81</td><td>  1.3</td><td>  0.40</td><td>  0.798</td></tr>\n",
       "</tbody>\n",
       "</table>\n"
      ],
      "text/latex": [
       "A data.frame: 14 × 51\n",
       "\\begin{tabular}{r|lllllllllllllllllllll}\n",
       "  & age & tmp & pulse & sbp & dbp & rr & spaO2 & map & gcs & wbc & ⋯ & sCD163 & IL10 & Pentraxin3 & CD14 & TREM1 & CD64 & ICAM1 & Eselectin & Pselectin & VCAM1\\\\\n",
       "  & <dbl> & <dbl> & <dbl> & <dbl> & <dbl> & <dbl> & <dbl> & <dbl> & <dbl> & <dbl> & ⋯ & <dbl> & <dbl> & <dbl> & <dbl> & <dbl> & <dbl> & <dbl> & <dbl> & <dbl> & <dbl>\\\\\n",
       "\\hline\n",
       "\tnbr.val &   644.00 &   644.000 &   644.00 &   644.00 &   644.00 &   644.00 &   644.000 &   644.00 &  644.00 &  644.00 & ⋯ &  94.00 &     94.000 &  94.00 &  94.000 &  94.000 &    94.00 &   94.00 &  94.0 &  94.00 &  94.000\\\\\n",
       "\tnbr.null &     0.00 &     0.000 &     0.00 &     0.00 &     0.00 &     0.00 &     0.000 &     0.00 &    0.00 &    0.00 & ⋯ &   0.00 &      0.000 &   0.00 &   0.000 &   0.000 &     0.00 &    0.00 &   0.0 &   0.00 &   0.000\\\\\n",
       "\tnbr.na &     0.00 &     0.000 &     0.00 &     0.00 &     0.00 &     0.00 &     0.000 &     0.00 &    0.00 &    0.00 & ⋯ & 550.00 &    550.000 & 550.00 & 550.000 & 550.000 &   550.00 &  550.00 & 550.0 & 550.00 & 550.000\\\\\n",
       "\tmin &    18.00 &    33.500 &    36.00 &    38.00 &    28.00 &    13.00 &    65.000 &    31.33 &    3.00 &    0.30 & ⋯ &   0.15 &      0.005 &   0.07 &   1.195 &   0.030 &     2.99 &    2.59 &   1.2 &   1.38 &   0.061\\\\\n",
       "\tmax &    98.00 &    42.200 &   208.00 &   223.00 &   144.00 &    51.00 &    99.000 &   165.33 &   15.00 &   51.70 & ⋯ &   7.25 &   3289.311 &   5.50 &   5.541 &   2.878 &   495.29 &   76.54 & 105.3 &  13.45 &   1.414\\\\\n",
       "\trange &    80.00 &     8.700 &   172.00 &   185.00 &   116.00 &    38.00 &    34.000 &   134.00 &   12.00 &   51.40 & ⋯ &   7.09 &   3289.306 &   5.43 &   4.346 &   2.848 &   492.29 &   73.94 & 104.1 &  12.07 &   1.352\\\\\n",
       "\tsum & 42200.00 & 24479.900 & 71534.00 & 83953.00 & 48500.00 & 13772.00 & 60010.000 & 60326.00 & 8660.00 & 8403.90 & ⋯ & 165.53 &   6640.953 & 142.46 & 221.264 &  62.406 & 14599.84 & 1653.48 & 980.7 & 504.44 &  29.267\\\\\n",
       "\tmedian &    66.50 &    38.100 &   111.00 &   129.00 &    74.00 &    20.00 &    95.000 &    93.00 &   15.00 &   12.50 & ⋯ &   1.29 &      1.229 &   1.09 &   2.249 &   0.529 &   134.80 &   12.79 &   6.5 &   5.03 &   0.234\\\\\n",
       "\tmean &    65.53 &    38.012 &   111.08 &   130.36 &    75.31 &    21.39 &    93.183 &    93.67 &   13.45 &   13.05 & ⋯ &   1.76 &     70.648 &   1.52 &   2.354 &   0.664 &   155.32 &   17.59 &  10.4 &   5.37 &   0.311\\\\\n",
       "\tSE.mean &     0.64 &     0.053 &     0.92 &     1.27 &     0.72 &     0.16 &     0.218 &     0.85 &    0.12 &    0.29 & ⋯ &   0.14 &     37.307 &   0.13 &   0.084 &   0.055 &    11.53 &    1.46 &   1.4 &   0.22 &   0.026\\\\\n",
       "\tCI.mean.0.95 &     1.25 &     0.104 &     1.81 &     2.50 &     1.41 &     0.31 &     0.429 &     1.66 &    0.24 &    0.57 & ⋯ &   0.27 &     74.084 &   0.25 &   0.167 &   0.109 &    22.89 &    2.91 &   2.8 &   0.44 &   0.051\\\\\n",
       "\tvar &   260.29 &     1.810 &   547.96 &  1042.14 &   330.96 &    16.08 &    30.732 &   460.96 &    9.50 &   54.11 & ⋯ &   1.76 & 130828.750 &   1.53 &   0.662 &   0.285 & 12489.03 &  201.70 & 189.8 &   4.66 &   0.062\\\\\n",
       "\tstd.dev &    16.13 &     1.345 &    23.41 &    32.28 &    18.19 &     4.01 &     5.544 &    21.47 &    3.08 &    7.36 & ⋯ &   1.33 &    361.703 &   1.24 &   0.814 &   0.534 &   111.75 &   14.20 &  13.8 &   2.16 &   0.249\\\\\n",
       "\tcoef.var &     0.25 &     0.035 &     0.21 &     0.25 &     0.24 &     0.19 &     0.059 &     0.23 &    0.23 &    0.56 & ⋯ &   0.75 &      5.120 &   0.82 &   0.346 &   0.804 &     0.72 &    0.81 &   1.3 &   0.40 &   0.798\\\\\n",
       "\\end{tabular}\n"
      ],
      "text/markdown": [
       "\n",
       "A data.frame: 14 × 51\n",
       "\n",
       "| <!--/--> | age &lt;dbl&gt; | tmp &lt;dbl&gt; | pulse &lt;dbl&gt; | sbp &lt;dbl&gt; | dbp &lt;dbl&gt; | rr &lt;dbl&gt; | spaO2 &lt;dbl&gt; | map &lt;dbl&gt; | gcs &lt;dbl&gt; | wbc &lt;dbl&gt; | ⋯ ⋯ | sCD163 &lt;dbl&gt; | IL10 &lt;dbl&gt; | Pentraxin3 &lt;dbl&gt; | CD14 &lt;dbl&gt; | TREM1 &lt;dbl&gt; | CD64 &lt;dbl&gt; | ICAM1 &lt;dbl&gt; | Eselectin &lt;dbl&gt; | Pselectin &lt;dbl&gt; | VCAM1 &lt;dbl&gt; |\n",
       "|---|---|---|---|---|---|---|---|---|---|---|---|---|---|---|---|---|---|---|---|---|---|\n",
       "| nbr.val |   644.00 |   644.000 |   644.00 |   644.00 |   644.00 |   644.00 |   644.000 |   644.00 |  644.00 |  644.00 | ⋯ |  94.00 |     94.000 |  94.00 |  94.000 |  94.000 |    94.00 |   94.00 |  94.0 |  94.00 |  94.000 |\n",
       "| nbr.null |     0.00 |     0.000 |     0.00 |     0.00 |     0.00 |     0.00 |     0.000 |     0.00 |    0.00 |    0.00 | ⋯ |   0.00 |      0.000 |   0.00 |   0.000 |   0.000 |     0.00 |    0.00 |   0.0 |   0.00 |   0.000 |\n",
       "| nbr.na |     0.00 |     0.000 |     0.00 |     0.00 |     0.00 |     0.00 |     0.000 |     0.00 |    0.00 |    0.00 | ⋯ | 550.00 |    550.000 | 550.00 | 550.000 | 550.000 |   550.00 |  550.00 | 550.0 | 550.00 | 550.000 |\n",
       "| min |    18.00 |    33.500 |    36.00 |    38.00 |    28.00 |    13.00 |    65.000 |    31.33 |    3.00 |    0.30 | ⋯ |   0.15 |      0.005 |   0.07 |   1.195 |   0.030 |     2.99 |    2.59 |   1.2 |   1.38 |   0.061 |\n",
       "| max |    98.00 |    42.200 |   208.00 |   223.00 |   144.00 |    51.00 |    99.000 |   165.33 |   15.00 |   51.70 | ⋯ |   7.25 |   3289.311 |   5.50 |   5.541 |   2.878 |   495.29 |   76.54 | 105.3 |  13.45 |   1.414 |\n",
       "| range |    80.00 |     8.700 |   172.00 |   185.00 |   116.00 |    38.00 |    34.000 |   134.00 |   12.00 |   51.40 | ⋯ |   7.09 |   3289.306 |   5.43 |   4.346 |   2.848 |   492.29 |   73.94 | 104.1 |  12.07 |   1.352 |\n",
       "| sum | 42200.00 | 24479.900 | 71534.00 | 83953.00 | 48500.00 | 13772.00 | 60010.000 | 60326.00 | 8660.00 | 8403.90 | ⋯ | 165.53 |   6640.953 | 142.46 | 221.264 |  62.406 | 14599.84 | 1653.48 | 980.7 | 504.44 |  29.267 |\n",
       "| median |    66.50 |    38.100 |   111.00 |   129.00 |    74.00 |    20.00 |    95.000 |    93.00 |   15.00 |   12.50 | ⋯ |   1.29 |      1.229 |   1.09 |   2.249 |   0.529 |   134.80 |   12.79 |   6.5 |   5.03 |   0.234 |\n",
       "| mean |    65.53 |    38.012 |   111.08 |   130.36 |    75.31 |    21.39 |    93.183 |    93.67 |   13.45 |   13.05 | ⋯ |   1.76 |     70.648 |   1.52 |   2.354 |   0.664 |   155.32 |   17.59 |  10.4 |   5.37 |   0.311 |\n",
       "| SE.mean |     0.64 |     0.053 |     0.92 |     1.27 |     0.72 |     0.16 |     0.218 |     0.85 |    0.12 |    0.29 | ⋯ |   0.14 |     37.307 |   0.13 |   0.084 |   0.055 |    11.53 |    1.46 |   1.4 |   0.22 |   0.026 |\n",
       "| CI.mean.0.95 |     1.25 |     0.104 |     1.81 |     2.50 |     1.41 |     0.31 |     0.429 |     1.66 |    0.24 |    0.57 | ⋯ |   0.27 |     74.084 |   0.25 |   0.167 |   0.109 |    22.89 |    2.91 |   2.8 |   0.44 |   0.051 |\n",
       "| var |   260.29 |     1.810 |   547.96 |  1042.14 |   330.96 |    16.08 |    30.732 |   460.96 |    9.50 |   54.11 | ⋯ |   1.76 | 130828.750 |   1.53 |   0.662 |   0.285 | 12489.03 |  201.70 | 189.8 |   4.66 |   0.062 |\n",
       "| std.dev |    16.13 |     1.345 |    23.41 |    32.28 |    18.19 |     4.01 |     5.544 |    21.47 |    3.08 |    7.36 | ⋯ |   1.33 |    361.703 |   1.24 |   0.814 |   0.534 |   111.75 |   14.20 |  13.8 |   2.16 |   0.249 |\n",
       "| coef.var |     0.25 |     0.035 |     0.21 |     0.25 |     0.24 |     0.19 |     0.059 |     0.23 |    0.23 |    0.56 | ⋯ |   0.75 |      5.120 |   0.82 |   0.346 |   0.804 |     0.72 |    0.81 |   1.3 |   0.40 |   0.798 |\n",
       "\n"
      ],
      "text/plain": [
       "             age      tmp       pulse    sbp      dbp      rr       spaO2    \n",
       "nbr.val        644.00   644.000   644.00   644.00   644.00   644.00   644.000\n",
       "nbr.null         0.00     0.000     0.00     0.00     0.00     0.00     0.000\n",
       "nbr.na           0.00     0.000     0.00     0.00     0.00     0.00     0.000\n",
       "min             18.00    33.500    36.00    38.00    28.00    13.00    65.000\n",
       "max             98.00    42.200   208.00   223.00   144.00    51.00    99.000\n",
       "range           80.00     8.700   172.00   185.00   116.00    38.00    34.000\n",
       "sum          42200.00 24479.900 71534.00 83953.00 48500.00 13772.00 60010.000\n",
       "median          66.50    38.100   111.00   129.00    74.00    20.00    95.000\n",
       "mean            65.53    38.012   111.08   130.36    75.31    21.39    93.183\n",
       "SE.mean          0.64     0.053     0.92     1.27     0.72     0.16     0.218\n",
       "CI.mean.0.95     1.25     0.104     1.81     2.50     1.41     0.31     0.429\n",
       "var            260.29     1.810   547.96  1042.14   330.96    16.08    30.732\n",
       "std.dev         16.13     1.345    23.41    32.28    18.19     4.01     5.544\n",
       "coef.var         0.25     0.035     0.21     0.25     0.24     0.19     0.059\n",
       "             map      gcs     wbc     ⋯ sCD163 IL10       Pentraxin3 CD14   \n",
       "nbr.val        644.00  644.00  644.00 ⋯  94.00     94.000  94.00      94.000\n",
       "nbr.null         0.00    0.00    0.00 ⋯   0.00      0.000   0.00       0.000\n",
       "nbr.na           0.00    0.00    0.00 ⋯ 550.00    550.000 550.00     550.000\n",
       "min             31.33    3.00    0.30 ⋯   0.15      0.005   0.07       1.195\n",
       "max            165.33   15.00   51.70 ⋯   7.25   3289.311   5.50       5.541\n",
       "range          134.00   12.00   51.40 ⋯   7.09   3289.306   5.43       4.346\n",
       "sum          60326.00 8660.00 8403.90 ⋯ 165.53   6640.953 142.46     221.264\n",
       "median          93.00   15.00   12.50 ⋯   1.29      1.229   1.09       2.249\n",
       "mean            93.67   13.45   13.05 ⋯   1.76     70.648   1.52       2.354\n",
       "SE.mean          0.85    0.12    0.29 ⋯   0.14     37.307   0.13       0.084\n",
       "CI.mean.0.95     1.66    0.24    0.57 ⋯   0.27     74.084   0.25       0.167\n",
       "var            460.96    9.50   54.11 ⋯   1.76 130828.750   1.53       0.662\n",
       "std.dev         21.47    3.08    7.36 ⋯   1.33    361.703   1.24       0.814\n",
       "coef.var         0.23    0.23    0.56 ⋯   0.75      5.120   0.82       0.346\n",
       "             TREM1   CD64     ICAM1   Eselectin Pselectin VCAM1  \n",
       "nbr.val       94.000    94.00   94.00  94.0      94.00     94.000\n",
       "nbr.null       0.000     0.00    0.00   0.0       0.00      0.000\n",
       "nbr.na       550.000   550.00  550.00 550.0     550.00    550.000\n",
       "min            0.030     2.99    2.59   1.2       1.38      0.061\n",
       "max            2.878   495.29   76.54 105.3      13.45      1.414\n",
       "range          2.848   492.29   73.94 104.1      12.07      1.352\n",
       "sum           62.406 14599.84 1653.48 980.7     504.44     29.267\n",
       "median         0.529   134.80   12.79   6.5       5.03      0.234\n",
       "mean           0.664   155.32   17.59  10.4       5.37      0.311\n",
       "SE.mean        0.055    11.53    1.46   1.4       0.22      0.026\n",
       "CI.mean.0.95   0.109    22.89    2.91   2.8       0.44      0.051\n",
       "var            0.285 12489.03  201.70 189.8       4.66      0.062\n",
       "std.dev        0.534   111.75   14.20  13.8       2.16      0.249\n",
       "coef.var       0.804     0.72    0.81   1.3       0.40      0.798"
      ]
     },
     "metadata": {},
     "output_type": "display_data"
    },
    {
     "data": {
      "image/png": "[encoded data removed]",
      "text/plain": [
       "Plot with title \"Histogram for wbc\""
      ]
     },
     "metadata": {
      "image/png": {
       "height": 420,
       "width": 420
      }
     },
     "output_type": "display_data"
    }
   ],
   "source": [
    "library(pastecs)\n",
    "attach(mydata)\n",
    "scores=cbind(age,tmp,pulse,sbp,dbp,rr,spaO2,map,gcs,wbc,band,plt,bilt,aptt,pt,rdw,rbc,hb,mcv,alb,\n",
    "             bun,inr,ast,mchc,eos,lactate,pct,crp,cre,c3_case,ca_case,uric_case,clchl_case,\n",
    "             cortisol_case,inorP_case,ddimer_case,proteinc_case,fdp_case,Angiopoetin2,IL6,THF,\n",
    "             sCD163,IL10,Pentraxin3,CD14,TREM1,CD64,ICAM1,Eselectin,Pselectin,VCAM1)\n",
    "stat.desc(scores)\n",
    "options(scipen=100)\n",
    "options(digits=2)\n",
    "stat.desc(scores)\n",
    "windows()\n",
    "hist(scores[,\"wbc\"], \n",
    "     main=\"Histogram for wbc\", \n",
    "     xlab=\"wbc\", \n",
    "     border=\"blue\", \n",
    "     col=\"green\", \n",
    "     xlim=c(0,55), \n",
    "     las=1, \n",
    "     breaks=40, \n",
    "     prob = TRUE)"
   ]
  },
  {
   "cell_type": "markdown",
   "id": "83a68747",
   "metadata": {},
   "source": [
    "## lowess plot"
   ]
  },
  {
   "cell_type": "code",
   "execution_count": 27,
   "id": "7635f0dc",
   "metadata": {},
   "outputs": [
    {
     "ename": "ERROR",
     "evalue": "Error in `[.data.frame`(mydata, contivars): undefined columns selected\n",
     "output_type": "error",
     "traceback": [
      "Error in `[.data.frame`(mydata, contivars): undefined columns selected\nTraceback:\n",
      "1. mydata[contivars]",
      "2. `[.data.frame`(mydata, contivars)",
      "3. stop(\"undefined columns selected\")"
     ]
    }
   ],
   "source": [
    "library(ggplot2)\n",
    "contivars=c(\"age\",\"tmp\",\"pulse\",\"sbp\",\"dbp\",\"rr\",\"spaO2\",\"map\",\"gcs\",\"wbc\",\"band\",\n",
    "            \"plt\",\"bilt\",\"aptt\",\"pt\",\"rdw\",\"rbc\",\"hb\",\"mcv\",\"alb\",\"bun\",\"inr\",\"ast\",\n",
    "            \"mchc\",\"eos\",\"lactate\",\"pct\",\"crp\",\"cre\",\"fs\",\"sugar\",\"c3_case\",\"ca_case\",\n",
    "            \"uric_case\",\"clchl_case\",\"cortisol_case\",\"inorP_case\",\"ddimer_case\",\n",
    "            \"proteinc_case\",\"fdp_case\")\n",
    "categoryvars=c(\"res_infection\",\"GU_infection\",\"skin_infection\",\"abdominal_infection\",\"cns_infection\",\"msk_infection\",\"other_infection\")\n",
    "numericdata=mydata[contivars]\n",
    "binarydata=mydata[categoryvars]\n",
    "for(i in 1:ncol(numericdata)){\n",
    "  numericdata[,i]=ifelse(is.na(numericdata[,i]),mean(numericdata[,i],na.rm=T),numericdata[,i])\n",
    "}\n",
    "for(i in 1:ncol(binarydata)){\n",
    "  binarydata[,i]=ifelse(is.na(binarydata[,i]),0,binarydata[,i])\n",
    "}\n",
    "mydata=cbind(death=mydata$death_binary,binarydata,numericdata)\n",
    "mydata=as.data.frame(mydata)\n",
    "windows()\n",
    "ggplot(mydata,aes(x=fdp_case,y=death))+\n",
    "       geom_point(size=2,alpha=0.4)+\n",
    "       stat_smooth(method=\"loess\",colour=\"blue\",size=1.5)+\n",
    "       xlab(\"fdp_case\")+ylab(\"death\")+theme_bw()"
   ]
  },
  {
   "cell_type": "markdown",
   "id": "c1450028",
   "metadata": {},
   "source": [
    "### 3D plot"
   ]
  },
  {
   "cell_type": "code",
   "execution_count": null,
   "id": "fcd10250",
   "metadata": {},
   "outputs": [],
   "source": [
    "library(plotly)\n",
    "setwd(\"C:/Users/user/Desktop/model selection/644 death prediction model/data\")\n",
    "mydata=read.csv(\"test 20161004.csv\",header=TRUE,sep=\",\")\n",
    "sapply(mydata,function(x) sum(is.na(x)))\n",
    "\n",
    "contivars=c(\"age\",\"tmp\",\"pulse\",\"sbp\",\"dbp\",\"rr\",\"spaO2\",\"map\",\"gcs\",\"wbc\",\"band\",\"plt\",\"bilt\",\"aptt\",\"pt\",\"rdw\",\"rbc\",\"hb\",\"mcv\",\"alb\",\"bun\",\"inr\",\"ast\",\"mchc\",\"eos\",\"lactate\",\"pct\",\"crp\",\"cre\",\"fs\",\"sugar\",\"c3_case\",\"ca_case\",\"uric_case\",\"clchl_case\",\"cortisol_case\",\"inorP_case\",\"ddimer_case\",\"proteinc_case\",\"fdp_case\")\n",
    "categoryvars=c(\"Gram\",\"E\",\"V\",\"M\",\"res_infection\",\"GU_infection\",\"skin_infection\",\"abdominal_infection\",\"cns_infection\",\"msk_infection\",\"other_infection\")\n",
    "numericdata=mydata[contivars]\n",
    "binarydata=mydata[categoryvars]\n",
    "for(i in 1:ncol(numericdata)){\n",
    "  numericdata[,i]=ifelse(is.na(numericdata[,i]),mean(numericdata[,i],na.rm=T),numericdata[,i])\n",
    "}\n",
    "for(i in 1:ncol(binarydata)){\n",
    "  binarydata[,i]=ifelse(is.na(binarydata[,i]),0,binarydata[,i])\n",
    "}\n",
    "mydata=cbind(binarydata,numericdata,death=mydata$death)\n",
    "mydata=mydata[,c(\"death\",\"map\",\"cortisol_case\",\"clchl_case\",\"rdw\",\"bun\",\"ast\",\"plt\",\"pt\",\"ddimer_case\")]\n",
    "windows()\n",
    "x=mydata$cortisol_case\n",
    "y=mydata$rdw\n",
    "z=mydata$plt\n",
    "death=as.factor(mydata$death)\n",
    "# Plot\n",
    "library(scatterplot3d)\n",
    "scatterplot3d(x,y,z,pch=16)\n",
    "## Change color by death\n",
    "colors=c(\"red\",\"#999999\")\n",
    "scatterplot3d(x,y,z,pch=16,color=colors[death],\n",
    "              grid=TRUE,box=FALSE,xlab=\"Cortisol\", \n",
    "              ylab=\"Rdw\",zlab=\"Plt\")"
   ]
  },
  {
   "cell_type": "code",
   "execution_count": null,
   "id": "a6c883b5",
   "metadata": {},
   "outputs": [],
   "source": [
    "### 3-Dimensional (3-D) Visualization using R"
   ]
  },
  {
   "cell_type": "code",
   "execution_count": null,
   "id": "1395cd7a",
   "metadata": {},
   "outputs": [],
   "source": [
    "list.of.packages <- c(\"rgl\",\"ggplot2\",\"knitr\",\"rglwidget\")\n",
    "new.packages <- list.of.packages[!(list.of.packages %in% installed.packages()[,\"Package\"])]\n",
    "if(length(new.packages)) install.packages(new.packages)\n",
    "lapply(list.of.packages,function(x){library(x,character.only=TRUE)})\n",
    "knit_hooks$set(webgl = hook_webgl)\n",
    "setwd(\"C:/Users/user/Desktop/model selection/644 death prediction model/data\")\n",
    "mydata=read.csv(\"test 20161004.csv\",header=TRUE,sep=\",\")\n",
    "sapply(mydata,function(x) sum(is.na(x)))\n",
    "\n",
    "contivars=c(\"age\",\"tmp\",\"pulse\",\"sbp\",\"dbp\",\"rr\",\"spaO2\",\"map\",\"gcs\",\"wbc\",\"band\",\"plt\",\"bilt\",\"aptt\",\"pt\",\"rdw\",\"rbc\",\"hb\",\"mcv\",\"alb\",\"bun\",\"inr\",\"ast\",\"mchc\",\"eos\",\"lactate\",\"pct\",\"crp\",\"cre\",\"fs\",\"sugar\",\"c3_case\",\"ca_case\",\"uric_case\",\"clchl_case\",\"cortisol_case\",\"inorP_case\",\"ddimer_case\",\"proteinc_case\",\"fdp_case\")\n",
    "categoryvars=c(\"Gram\",\"E\",\"V\",\"M\",\"res_infection\",\"GU_infection\",\"skin_infection\",\"abdominal_infection\",\"cns_infection\",\"msk_infection\",\"other_infection\")\n",
    "numericdata=mydata[contivars]\n",
    "binarydata=mydata[categoryvars]\n",
    "for(i in 1:ncol(numericdata)){\n",
    "                              numericdata[,i]=ifelse(is.na(numericdata[,i]),mean(numericdata[,i],na.rm=T),numericdata[,i])\n",
    "}\n",
    "for(i in 1:ncol(binarydata)){\n",
    "                              binarydata[,i]=ifelse(is.na(binarydata[,i]),0,binarydata[,i])\n",
    "}\n",
    "mydata=cbind(binarydata,numericdata,death=mydata$death)\n",
    "mydata=mydata[,c(\"death\",\"map\",\"cortisol_case\",\"clchl_case\",\"rdw\",\"bun\",\"ast\",\"plt\",\"pt\",\"ddimer_case\")]\n",
    "str(mydata)\n",
    "plot3d(mydata$map,mydata$cortisol_case,mydata$rdw,type=\"p\",size=5,lit=FALSE,box=FALSE,col=c(\"red\",\"blue\",\"green\"),expand=1,main=\"Map Vs Cortisol Vs Rdw\",sub=\"3-D Plot\",xlab=\"Map\",ylab=\"Cortisol\",zlab=\"Rdw\")\n",
    "rgl.bbox(color=c(\"#333377\",\"black\"),emission=\"#112233\",\n",
    "         specular=\"#1A2B3C\", shininess=5, alpha=0.8, nticks = 3 ) \n",
    "aspect3d(1,1,1)\n",
    "       \n",
    "plot_ly(mydata, x = ~rdw, y = ~plt, z = ~ddimer_case, \n",
    "             marker = list(color=~death, colorscale = c('#FFE1A1', '#683531'), showscale = TRUE)) %>%\n",
    "                              add_markers() %>%\n",
    "                              layout(scene = list(xaxis = list(title = 'rdw'),\n",
    "                                                  yaxis = list(title = 'plt'),\n",
    "                                                  zaxis = list(title = 'ddimer')),\n",
    "                                     annotations = list(\n",
    "                                                                   \n",
    "                                     ))"
   ]
  },
  {
   "cell_type": "markdown",
   "id": "5348bf6a",
   "metadata": {},
   "source": [
    "## heatmap of correlation matrix"
   ]
  },
  {
   "cell_type": "code",
   "execution_count": null,
   "id": "281c7425",
   "metadata": {},
   "outputs": [],
   "source": [
    "library(ggplot2)\n",
    "library(reshape2)\n",
    "setwd(\"C:/Users/user/Desktop/model selection/644 death prediction model/data\")\n",
    "mydata=read.csv(\"test 20161004.csv\",header=TRUE,sep=\",\")\n",
    "sapply(mydata,function(x) sum(is.na(x)))\n",
    "\n",
    "contivars=c(\"age\",\"tmp\",\"pulse\",\"sbp\",\"dbp\",\"rr\",\"spaO2\",\"map\",\"gcs\",\"wbc\",\"band\",\"plt\",\"bilt\",\"aptt\",\"pt\",\"rdw\",\"rbc\",\"hb\",\"mcv\",\"alb\",\"bun\",\"inr\",\"ast\",\"mchc\",\"eos\",\"lactate\",\"pct\",\"crp\",\"cre\",\"fs\",\"sugar\",\"c3_case\",\"ca_case\",\"uric_case\",\"clchl_case\",\"cortisol_case\",\"inorP_case\",\"ddimer_case\",\"proteinc_case\",\"fdp_case\")\n",
    "categoryvars=c(\"Gram\",\"E\",\"V\",\"M\",\"res_infection\",\"GU_infection\",\"skin_infection\",\"abdominal_infection\",\"cns_infection\",\"msk_infection\",\"other_infection\")\n",
    "numericdata=mydata[contivars]\n",
    "binarydata=mydata[categoryvars]\n",
    "for(i in 1:ncol(numericdata)){\n",
    "                              numericdata[,i]=ifelse(is.na(numericdata[,i]),mean(numericdata[,i],na.rm=T),numericdata[,i])\n",
    "}\n",
    "for(i in 1:ncol(binarydata)){\n",
    "                              binarydata[,i]=ifelse(is.na(binarydata[,i]),0,binarydata[,i])\n",
    "}\n",
    "mydata=cbind(binarydata,numericdata,death=mydata$death)\n",
    "#\"map\",\"cortisol_case\",\"clchl_case\",\"rdw\",\"bun\",\"ast\",\"plt\",\"pt\",\"ddimer_case\"\n",
    "mydata=mydata[,c(\"map\",\"rr\",\"pulse\",\"plt\",\"pt\",\"ddimer_case\",\"crp\",\"pct\",\"c3_case\",\"proteinc_case\",\"alb\",\"lactate\",\"ast\",\"bun\",\"wbc\",\"rbc\",\"rdw\",\"clchl_case\",\"ca_case\",\"cortisol_case\",\"gcs\")]\n",
    "M<-cor(mydata)\n",
    "library(corrplot)\n",
    "windows()\n",
    "corrplot(M, method=\"circle\")\n",
    "corrplot(M, method=\"number\")\n",
    "plot(mydata)\n",
    "windows()\n",
    "qplot(x=Var1, y=Var2, data=melt(cor(mydata,use=\"p\")), fill=value, geom=\"tile\") +\n",
    "                              scale_fill_gradient2(limits=c(-1, 1))\n",
    "\n",
    "library(plotrix)\n",
    "library(seriation)\n",
    "library(MASS)\n",
    "plotcor <- function(r, addtext=TRUE, atcex=NULL, incdiag=FALSE,\n",
    "                    rorder=TRUE, plot=TRUE, ...) {\n",
    "                              \n",
    "                              # round to the nearest hundredth\n",
    "                              rr <- round(r, 2)\n",
    "                              \n",
    "                              dimr <- dim(r)\n",
    "                              sym <- isSymmetric(r)\n",
    "                              \n",
    "                              # get rid of diagonal numbers\n",
    "                              if (!incdiag & sym) {\n",
    "                                                            diag(rr) <- NA\n",
    "                              }\n",
    "                              \n",
    "                              rrf <- format(rr)\n",
    "                              rrf[grep(\"NA\", rrf)] <- \"\"\n",
    "                              rra <- abs(rr)\n",
    "                              nx <- dimr[2]\n",
    "                              ny <- dimr[1]\n",
    "                              if (is.null(atcex)) {\n",
    "                                                            atcex <- 8/max(nx, ny)\n",
    "                              }\n",
    "                              namzx <- dimnames(rr)[[2]]\n",
    "                              namzy <- dimnames(rr)[[1]]\n",
    "                              \n",
    "                              # order rows/columns\n",
    "                              ordx <- 1:nx\n",
    "                              ordy <- 1:ny\n",
    "                              if (rorder) {\n",
    "                                                            # the seriate() function prints out % explained variance for method=\"PCA\"\n",
    "                                                            # I used capture.output to avoid having this print to the screen\n",
    "                                                            dummy <- capture.output(ser <- seriate((1-r)/2, method=\"PCA\"))\n",
    "                                                            ordy <- rev(get_order(ser, 1))\n",
    "                                                            ordx <- rev(get_order(ser, 2))\n",
    "                              }\n",
    "                              if (sym) {\n",
    "                                                            ordx <- rev(ordy)\n",
    "                              }\n",
    "                              \n",
    "                              if (plot) {\n",
    "                                                            # categorize correlations from -1 to 1 by 0.01\n",
    "                                                            brks <- seq(-1, 1, 0.01)\n",
    "                                                            rcat <- apply(rr, 2, cut, breaks=brks, labels=FALSE)\n",
    "                                                            \n",
    "                                                            # assign colors on the cyan-magenta scale\n",
    "                                                            colz <- apply(rcat, 2, function(x) cm.colors(length(brks))[x])\n",
    "                                                            par(xaxs=\"i\", yaxs=\"i\", mar=c(0.1, 7, 7, 0.1), ...)\n",
    "                                                            eqscplot(1, 1, type=\"n\", xlim=c(0.5, nx+0.5), ylim=c(0.5, ny+0.5),\n",
    "                                                                     xlab=\"\", ylab=\"\", axes=FALSE)\n",
    "                                                            for(i in 1:nx) {\n",
    "                                                                                          for(j in 1:ny) {\n",
    "                                                                                                                        io <- ordx[i]\n",
    "                                                                                                                        jo <- ordy[j]\n",
    "                                                                                                                        draw.ellipse(i, j, a=0.5, b=0.5, col=colz[jo, io], border=NA)\n",
    "                                                                                                                        draw.ellipse(i, j, a=0.5, b=(1-rr[jo, io]^2)/2,\n",
    "                                                                                                                                     angle=45*c(-1, 1)[1+(rr[jo, io]>0)], col=\"white\", border=NA)\n",
    "                                                                                                                        if (addtext & !is.na(rra[jo, io])) {\n",
    "                                                                                                                                                      text(i, j, rrf[jo, io], cex=atcex, col=rgb(0, 0, 0, alpha=rra[jo, io]))\n",
    "                                                                                                                        }\n",
    "                                                                                          }}\n",
    "                                                            axis(3, at=1:nx, labels=namzx[ordx], las=2, tick=FALSE)\n",
    "                                                            axis(2, at=1:ny, labels=namzy[ordy], las=2, tick=FALSE)\n",
    "                              }\n",
    "                              \n",
    "                              list(rev(ordy), ordx)\n",
    "}\n",
    "windows()\n",
    "plotcor(cor(mydata), mar=c(0.1, 4, 4, 0.1))\n"
   ]
  },
  {
   "cell_type": "code",
   "execution_count": null,
   "id": "cd72039b",
   "metadata": {},
   "outputs": [],
   "source": [
    "### 3D plot for fever up to 5 days\n",
    "library(plotly)\n",
    "setwd(\"C:/Users/user/Desktop/model selection/644 death prediction model/data\")\n",
    "mydata=read.csv(\"fever 5 up.csv\",header=TRUE,sep=\",\")\n",
    "sapply(mydata,function(x) sum(is.na(x)))\n",
    "\n",
    "contivars=c(\"age\",\"tmp\",\"pulse\",\"sbp\",\"dbp\",\"rr\",\"spaO2\",\"map\",\"gcs\",\"wbc\",\"band\",\"plt\",\"bilt\",\"aptt\",\"pt\",\"rdw\",\"rbc\",\"hb\",\"mcv\",\"alb\",\"bun\",\"inr\",\"ast\",\"mchc\",\"eos\",\"lactate\",\"pct\",\"crp\",\"cre\",\"fs\",\"sugar\",\"c3_case\",\"ca_case\",\"uric_case\",\"clchl_case\",\"cortisol_case\",\"inorP_case\",\"ddimer_case\",\"proteinc_case\",\"fdp_case\")\n",
    "categoryvars=c(\"Gram\",\"E\",\"V\",\"M\",\"res_infection\",\"GU_infection\",\"skin_infection\",\"abdominal_infection\",\"cns_infection\",\"msk_infection\",\"other_infection\")\n",
    "numericdata=mydata[contivars]\n",
    "binarydata=mydata[categoryvars]\n",
    "for(i in 1:ncol(numericdata)){\n",
    "  numericdata[,i]=ifelse(is.na(numericdata[,i]),mean(numericdata[,i],na.rm=T),numericdata[,i])\n",
    "}\n",
    "for(i in 1:ncol(binarydata)){\n",
    "  binarydata[,i]=ifelse(is.na(binarydata[,i]),0,binarydata[,i])\n",
    "}\n",
    "mydata=cbind(binarydata,numericdata,death=mydata$death)\n",
    "mydata=mydata[,c(\"death\",\"age\",\"map\",\"plt\",\"rdw\",\"rbc\",\"alb\",\"bun\",\"lactate\",\"c3_case\")]\n",
    "windows()\n",
    "x=mydata$age\n",
    "y=mydata$map\n",
    "z=mydata$rdw\n",
    "death=as.factor(mydata$death)\n",
    "# Plot\n",
    "library(scatterplot3d)\n",
    "scatterplot3d(x,y,z,pch=16)\n",
    "## Change color by death\n",
    "colors=c(\"red\",\"#999999\")\n",
    "scatterplot3d(x,y,z,pch=16,color=colors[death],\n",
    "              grid=TRUE,box=FALSE,xlab=\"age\", \n",
    "              ylab=\"map\",zlab=\"rdw\")\n"
   ]
  }
 ],
 "metadata": {
  "kernelspec": {
   "display_name": "R",
   "language": "R",
   "name": "ir"
  },
  "language_info": {
   "codemirror_mode": "r",
   "file_extension": ".r",
   "mimetype": "text/x-r-source",
   "name": "R",
   "pygments_lexer": "r",
   "version": "4.1.3"
  }
 },
 "nbformat": 4,
 "nbformat_minor": 5
}
